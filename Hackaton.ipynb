{
 "cells": [
  {
   "cell_type": "code",
   "execution_count": 1,
   "id": "micro-tanzania",
   "metadata": {},
   "outputs": [
    {
     "name": "stderr",
     "output_type": "stream",
     "text": [
      "/home/victor/.local/lib/python3.6/site-packages/numba/core/errors.py:154: UserWarning: Insufficiently recent colorama version found. Numba requires colorama >= 0.3.9\n",
      "  warnings.warn(msg)\n",
      "/home/victor/.local/lib/python3.6/site-packages/umap/__init__.py:9: UserWarning: Tensorflow not installed; ParametricUMAP will be unavailable\n",
      "  warn(\"Tensorflow not installed; ParametricUMAP will be unavailable\")\n"
     ]
    }
   ],
   "source": [
    "import pandas as pd\n",
    "import numpy as np\n",
    "from sklearn.datasets import load_digits\n",
    "from sklearn.model_selection import train_test_split\n",
    "from sklearn.preprocessing import StandardScaler\n",
    "import matplotlib.pyplot as plt\n",
    "import seaborn as sns\n",
    "import pandas as pd\n",
    "import os\n",
    "import xlrd\n",
    "import collections\n",
    "%matplotlib inline\n",
    "\n",
    "\n",
    "import umap\n",
    "import gower\n",
    "import sys"
   ]
  },
  {
   "cell_type": "markdown",
   "id": "adaptive-question",
   "metadata": {},
   "source": [
    "# Conversión de XLS to CSV:"
   ]
  },
  {
   "cell_type": "code",
   "execution_count": 170,
   "id": "british-birth",
   "metadata": {},
   "outputs": [],
   "source": [
    "files =  [ 'AA1 1 listado escuelas Jalisco xls.xls',\n",
    "           'AA2  indicadores de eficiencia por escuela Jalisco xls.xls',\n",
    "           'AA3 planea_basica_por_escuela_Jalisco.xls'\n",
    "           'AA4 delitos municipios Jalisco.xlsx',\n",
    "           'AA5 1  Indice de marginacion por municipio Jalisco xls.xlsx',\n",
    "           'AA6 1 madres adolescentes por municipio Jalisco 2019.xlsx',\n",
    "           'AA6 2 poblacion indigena municipio Jalisco.xls',\n",
    "           'AA7 1  socio economica por colonia2010 ZMG Jalisco.xls',\n",
    "           'AA7 2 socio economica por colonia ciudades medias Jalisco.xls',\n",
    "           'AA8 1 Censo Jalisco 2020 xls.xls',\n",
    "           'AA8 2 diccionario Censo Jalisco 2020.xls']"
   ]
  },
  {
   "cell_type": "code",
   "execution_count": 171,
   "id": "worst-combine",
   "metadata": {},
   "outputs": [],
   "source": [
    "new_files = ['AA1 1 listado escuelas Jalisco.csv',#0\n",
    "           'AA2  indicadores de eficiencia por escuela Jalisco.csv',#1\n",
    "           'AA3 planea_basica_por_escuela_Jalisco.csv',#2\n",
    "           'AA4 delitos municipios Jalisco.csv',#3\n",
    "           'AA5 1  Indice de marginacion por municipio Jalisco.csv',#4\n",
    "           'AA6 1 madres adolescentes por municipio Jalisco 2019.csv',#5\n",
    "           'AA6 2 poblacion indigena municipio Jalisco.csv',#6\n",
    "           'AA7 1  socio economica por colonia2010 ZMG Jalisco.csv',#7\n",
    "           'AA7 2 socio economica por colonia ciudades medias Jalisco.csv',#8\n",
    "           'AA8 1 Censo Jalisco 2020.csv',#9\n",
    "    \n",
    "]"
   ]
  },
  {
   "cell_type": "code",
   "execution_count": 34,
   "id": "damaged-principle",
   "metadata": {},
   "outputs": [],
   "source": [
    "def convert_csv(names_orig:list, names_new:list):\n",
    "    \n",
    "    for i in range(0, len(names_orig)):\n",
    "        \n",
    "        df = pd.read_excel(names_orig[i])\n",
    "        df.to_csv(names_new[i], index=False)\n",
    "    \n",
    "    "
   ]
  },
  {
   "cell_type": "code",
   "execution_count": 174,
   "id": "infrared-twist",
   "metadata": {},
   "outputs": [],
   "source": [
    "convert_csv(['AA3 planea_basica_por_escuela_Jalisco.xls'], ['AA3 planea_basica_por_escuela_Jalisco.csv'])"
   ]
  },
  {
   "cell_type": "code",
   "execution_count": 178,
   "id": "welsh-value",
   "metadata": {},
   "outputs": [
    {
     "data": {
      "text/html": [
       "<div>\n",
       "<style scoped>\n",
       "    .dataframe tbody tr th:only-of-type {\n",
       "        vertical-align: middle;\n",
       "    }\n",
       "\n",
       "    .dataframe tbody tr th {\n",
       "        vertical-align: top;\n",
       "    }\n",
       "\n",
       "    .dataframe thead th {\n",
       "        text-align: right;\n",
       "    }\n",
       "</style>\n",
       "<table border=\"1\" class=\"dataframe\">\n",
       "  <thead>\n",
       "    <tr style=\"text-align: right;\">\n",
       "      <th></th>\n",
       "    </tr>\n",
       "  </thead>\n",
       "  <tbody>\n",
       "  </tbody>\n",
       "</table>\n",
       "</div>"
      ],
      "text/plain": [
       "Empty DataFrame\n",
       "Columns: []\n",
       "Index: []"
      ]
     },
     "execution_count": 178,
     "metadata": {},
     "output_type": "execute_result"
    }
   ],
   "source": [
    "#df = pd.read_excel('AA3 planea_basica_por_escuela_Jalisco.xls')\n",
    "#df.head()"
   ]
  },
  {
   "cell_type": "markdown",
   "id": "raised-edmonton",
   "metadata": {},
   "source": [
    "# EXPLORACIÓN DE DATASETS:"
   ]
  },
  {
   "cell_type": "code",
   "execution_count": 184,
   "id": "radio-validity",
   "metadata": {
    "scrolled": true
   },
   "outputs": [
    {
     "name": "stdout",
     "output_type": "stream",
     "text": [
      "shape : (126, 19)\n"
     ]
    }
   ],
   "source": [
    "df = pd.read_csv(new_files[3]) #pos 3: una fila de Guadalajara, pos6 : Hay mucha informacion de Guadalajara, pos7: No hay nada\n",
    "print(\"shape :\",df.shape)\n",
    "#df.iloc[:50,:]"
   ]
  },
  {
   "cell_type": "code",
   "execution_count": 185,
   "id": "criminal-portuguese",
   "metadata": {},
   "outputs": [
    {
     "data": {
      "text/html": [
       "<div>\n",
       "<style scoped>\n",
       "    .dataframe tbody tr th:only-of-type {\n",
       "        vertical-align: middle;\n",
       "    }\n",
       "\n",
       "    .dataframe tbody tr th {\n",
       "        vertical-align: top;\n",
       "    }\n",
       "\n",
       "    .dataframe thead th {\n",
       "        text-align: right;\n",
       "    }\n",
       "</style>\n",
       "<table border=\"1\" class=\"dataframe\">\n",
       "  <thead>\n",
       "    <tr style=\"text-align: right;\">\n",
       "      <th></th>\n",
       "      <th>Clave municipal</th>\n",
       "      <th>Municipio</th>\n",
       "      <th>ABUSO SEXUAL INFANTIL</th>\n",
       "      <th>FEMINICIDIO</th>\n",
       "      <th>HOMICIDIO DOLOSO</th>\n",
       "      <th>LESIONES DOLOSAS</th>\n",
       "      <th>ROBO A BANCOS</th>\n",
       "      <th>ROBO A CARGA PESADA</th>\n",
       "      <th>ROBO A CUENTAHABIENTES</th>\n",
       "      <th>ROBO A INT DE VEHICULOS</th>\n",
       "      <th>ROBO A NEGOCIO</th>\n",
       "      <th>ROBO A PERSONA</th>\n",
       "      <th>ROBO A VEHICULOS PARTICULARES</th>\n",
       "      <th>ROBO CASA HABITACION</th>\n",
       "      <th>ROBO DE AUTOPARTES</th>\n",
       "      <th>ROBO DE MOTOCICLETA</th>\n",
       "      <th>VIOLACION</th>\n",
       "      <th>VIOLENCIA INTRAFAMILIAR</th>\n",
       "      <th>Total general</th>\n",
       "    </tr>\n",
       "  </thead>\n",
       "  <tbody>\n",
       "    <tr>\n",
       "      <th>0</th>\n",
       "      <td>1</td>\n",
       "      <td>ACATIC</td>\n",
       "      <td>5</td>\n",
       "      <td>1</td>\n",
       "      <td>0</td>\n",
       "      <td>19</td>\n",
       "      <td>0</td>\n",
       "      <td>1</td>\n",
       "      <td>0</td>\n",
       "      <td>1</td>\n",
       "      <td>3</td>\n",
       "      <td>2</td>\n",
       "      <td>12</td>\n",
       "      <td>12</td>\n",
       "      <td>0</td>\n",
       "      <td>15</td>\n",
       "      <td>0</td>\n",
       "      <td>19</td>\n",
       "      <td>90</td>\n",
       "    </tr>\n",
       "    <tr>\n",
       "      <th>1</th>\n",
       "      <td>2</td>\n",
       "      <td>ACATLÁN DE JUÁREZ</td>\n",
       "      <td>6</td>\n",
       "      <td>0</td>\n",
       "      <td>14</td>\n",
       "      <td>48</td>\n",
       "      <td>0</td>\n",
       "      <td>26</td>\n",
       "      <td>3</td>\n",
       "      <td>7</td>\n",
       "      <td>10</td>\n",
       "      <td>24</td>\n",
       "      <td>41</td>\n",
       "      <td>51</td>\n",
       "      <td>0</td>\n",
       "      <td>13</td>\n",
       "      <td>0</td>\n",
       "      <td>42</td>\n",
       "      <td>285</td>\n",
       "    </tr>\n",
       "    <tr>\n",
       "      <th>2</th>\n",
       "      <td>3</td>\n",
       "      <td>AHUALULCO DE MERCADO</td>\n",
       "      <td>4</td>\n",
       "      <td>0</td>\n",
       "      <td>0</td>\n",
       "      <td>36</td>\n",
       "      <td>0</td>\n",
       "      <td>2</td>\n",
       "      <td>0</td>\n",
       "      <td>1</td>\n",
       "      <td>3</td>\n",
       "      <td>5</td>\n",
       "      <td>8</td>\n",
       "      <td>6</td>\n",
       "      <td>0</td>\n",
       "      <td>10</td>\n",
       "      <td>1</td>\n",
       "      <td>15</td>\n",
       "      <td>91</td>\n",
       "    </tr>\n",
       "    <tr>\n",
       "      <th>3</th>\n",
       "      <td>4</td>\n",
       "      <td>AMACUECA</td>\n",
       "      <td>0</td>\n",
       "      <td>0</td>\n",
       "      <td>2</td>\n",
       "      <td>2</td>\n",
       "      <td>0</td>\n",
       "      <td>0</td>\n",
       "      <td>0</td>\n",
       "      <td>0</td>\n",
       "      <td>0</td>\n",
       "      <td>0</td>\n",
       "      <td>1</td>\n",
       "      <td>0</td>\n",
       "      <td>0</td>\n",
       "      <td>0</td>\n",
       "      <td>0</td>\n",
       "      <td>1</td>\n",
       "      <td>6</td>\n",
       "    </tr>\n",
       "    <tr>\n",
       "      <th>4</th>\n",
       "      <td>5</td>\n",
       "      <td>AMATITÁN</td>\n",
       "      <td>4</td>\n",
       "      <td>0</td>\n",
       "      <td>2</td>\n",
       "      <td>15</td>\n",
       "      <td>0</td>\n",
       "      <td>1</td>\n",
       "      <td>0</td>\n",
       "      <td>2</td>\n",
       "      <td>3</td>\n",
       "      <td>1</td>\n",
       "      <td>10</td>\n",
       "      <td>10</td>\n",
       "      <td>0</td>\n",
       "      <td>0</td>\n",
       "      <td>1</td>\n",
       "      <td>7</td>\n",
       "      <td>56</td>\n",
       "    </tr>\n",
       "  </tbody>\n",
       "</table>\n",
       "</div>"
      ],
      "text/plain": [
       "   Clave municipal             Municipio  ABUSO SEXUAL INFANTIL  FEMINICIDIO  \\\n",
       "0                1                ACATIC                      5            1   \n",
       "1                2     ACATLÁN DE JUÁREZ                      6            0   \n",
       "2                3  AHUALULCO DE MERCADO                      4            0   \n",
       "3                4              AMACUECA                      0            0   \n",
       "4                5              AMATITÁN                      4            0   \n",
       "\n",
       "   HOMICIDIO DOLOSO  LESIONES DOLOSAS  ROBO A BANCOS  ROBO A CARGA PESADA  \\\n",
       "0                 0                19              0                    1   \n",
       "1                14                48              0                   26   \n",
       "2                 0                36              0                    2   \n",
       "3                 2                 2              0                    0   \n",
       "4                 2                15              0                    1   \n",
       "\n",
       "   ROBO A CUENTAHABIENTES  ROBO A INT DE VEHICULOS  ROBO A NEGOCIO  \\\n",
       "0                       0                        1               3   \n",
       "1                       3                        7              10   \n",
       "2                       0                        1               3   \n",
       "3                       0                        0               0   \n",
       "4                       0                        2               3   \n",
       "\n",
       "   ROBO A PERSONA  ROBO A VEHICULOS PARTICULARES  ROBO CASA HABITACION  \\\n",
       "0               2                             12                    12   \n",
       "1              24                             41                    51   \n",
       "2               5                              8                     6   \n",
       "3               0                              1                     0   \n",
       "4               1                             10                    10   \n",
       "\n",
       "   ROBO DE AUTOPARTES  ROBO DE MOTOCICLETA  VIOLACION  \\\n",
       "0                   0                   15          0   \n",
       "1                   0                   13          0   \n",
       "2                   0                   10          1   \n",
       "3                   0                    0          0   \n",
       "4                   0                    0          1   \n",
       "\n",
       "   VIOLENCIA INTRAFAMILIAR  Total general  \n",
       "0                       19             90  \n",
       "1                       42            285  \n",
       "2                       15             91  \n",
       "3                        1              6  \n",
       "4                        7             56  "
      ]
     },
     "execution_count": 185,
     "metadata": {},
     "output_type": "execute_result"
    }
   ],
   "source": [
    "df.head()"
   ]
  },
  {
   "cell_type": "code",
   "execution_count": 180,
   "id": "printable-lesbian",
   "metadata": {},
   "outputs": [],
   "source": [
    "#counter = collections.Counter(df['NOMBRE MUNICIPIO'].to_list())\n",
    "#counter"
   ]
  },
  {
   "cell_type": "code",
   "execution_count": 77,
   "id": "opposite-shield",
   "metadata": {},
   "outputs": [],
   "source": [
    "#df = df.drop(df.columns[0], axis=1)\n",
    "#df.iloc[:15,:]\n",
    "#df.to_csv(new_files[4], index =False)"
   ]
  },
  {
   "cell_type": "code",
   "execution_count": 186,
   "id": "clean-proportion",
   "metadata": {},
   "outputs": [
    {
     "data": {
      "text/html": [
       "<div>\n",
       "<style scoped>\n",
       "    .dataframe tbody tr th:only-of-type {\n",
       "        vertical-align: middle;\n",
       "    }\n",
       "\n",
       "    .dataframe tbody tr th {\n",
       "        vertical-align: top;\n",
       "    }\n",
       "\n",
       "    .dataframe thead th {\n",
       "        text-align: right;\n",
       "    }\n",
       "</style>\n",
       "<table border=\"1\" class=\"dataframe\">\n",
       "  <thead>\n",
       "    <tr style=\"text-align: right;\">\n",
       "      <th></th>\n",
       "      <th>Clave municipal</th>\n",
       "      <th>Municipio</th>\n",
       "      <th>ABUSO SEXUAL INFANTIL</th>\n",
       "      <th>FEMINICIDIO</th>\n",
       "      <th>HOMICIDIO DOLOSO</th>\n",
       "      <th>LESIONES DOLOSAS</th>\n",
       "      <th>ROBO A BANCOS</th>\n",
       "      <th>ROBO A CARGA PESADA</th>\n",
       "      <th>ROBO A CUENTAHABIENTES</th>\n",
       "      <th>ROBO A INT DE VEHICULOS</th>\n",
       "      <th>ROBO A NEGOCIO</th>\n",
       "      <th>ROBO A PERSONA</th>\n",
       "      <th>ROBO A VEHICULOS PARTICULARES</th>\n",
       "      <th>ROBO CASA HABITACION</th>\n",
       "      <th>ROBO DE AUTOPARTES</th>\n",
       "      <th>ROBO DE MOTOCICLETA</th>\n",
       "      <th>VIOLACION</th>\n",
       "      <th>VIOLENCIA INTRAFAMILIAR</th>\n",
       "      <th>Total general</th>\n",
       "    </tr>\n",
       "  </thead>\n",
       "  <tbody>\n",
       "    <tr>\n",
       "      <th>38</th>\n",
       "      <td>39</td>\n",
       "      <td>GUADALAJARA</td>\n",
       "      <td>369</td>\n",
       "      <td>6</td>\n",
       "      <td>513</td>\n",
       "      <td>2212</td>\n",
       "      <td>14</td>\n",
       "      <td>104</td>\n",
       "      <td>493</td>\n",
       "      <td>1656</td>\n",
       "      <td>6865</td>\n",
       "      <td>7717</td>\n",
       "      <td>9526</td>\n",
       "      <td>1952</td>\n",
       "      <td>1452</td>\n",
       "      <td>858</td>\n",
       "      <td>101</td>\n",
       "      <td>2007</td>\n",
       "      <td>35845</td>\n",
       "    </tr>\n",
       "  </tbody>\n",
       "</table>\n",
       "</div>"
      ],
      "text/plain": [
       "    Clave municipal    Municipio  ABUSO SEXUAL INFANTIL  FEMINICIDIO  \\\n",
       "38               39  GUADALAJARA                    369            6   \n",
       "\n",
       "    HOMICIDIO DOLOSO  LESIONES DOLOSAS  ROBO A BANCOS  ROBO A CARGA PESADA  \\\n",
       "38               513              2212             14                  104   \n",
       "\n",
       "    ROBO A CUENTAHABIENTES  ROBO A INT DE VEHICULOS  ROBO A NEGOCIO  \\\n",
       "38                     493                     1656            6865   \n",
       "\n",
       "    ROBO A PERSONA  ROBO A VEHICULOS PARTICULARES  ROBO CASA HABITACION  \\\n",
       "38            7717                           9526                  1952   \n",
       "\n",
       "    ROBO DE AUTOPARTES  ROBO DE MOTOCICLETA  VIOLACION  \\\n",
       "38                1452                  858        101   \n",
       "\n",
       "    VIOLENCIA INTRAFAMILIAR  Total general  \n",
       "38                     2007          35845  "
      ]
     },
     "execution_count": 186,
     "metadata": {},
     "output_type": "execute_result"
    }
   ],
   "source": [
    "df8 = df.loc[df['Municipio'] == 'GUADALAJARA']\n",
    "df8.head()"
   ]
  },
  {
   "cell_type": "code",
   "execution_count": 187,
   "id": "divine-trail",
   "metadata": {},
   "outputs": [],
   "source": [
    "#df8.to_csv('A4_delitosGuad.csv', index=False) #A71_SocioEconGuad.csv, A62_PobIndigenaGuad.csv, A4_delitosGuad"
   ]
  },
  {
   "cell_type": "markdown",
   "id": "amino-crystal",
   "metadata": {},
   "source": [
    "# Exploración Part2:"
   ]
  },
  {
   "cell_type": "code",
   "execution_count": 188,
   "id": "understanding-mileage",
   "metadata": {},
   "outputs": [
    {
     "name": "stdout",
     "output_type": "stream",
     "text": [
      " A2_indicEficEscuelaGuad.csv  'AA3 planea_basica_por_escuela_Jalisco.xls'\r\n",
      " A4_delitosGuad.csv\t      'AA4 delitos municipios Jalisco.csv'\r\n",
      " A51_IndicMargGuad.csv\t      'DATA FILES CSV'\r\n",
      " A61_MadresAdolescGuad.csv    'FILES XLS'\r\n",
      " A62_PobIndigenaGuad.csv      'Hackathon Desercion Escolar v1.docx'\r\n",
      " A71_SocioEconGuad.csv\t       Hackaton.ipynb\r\n",
      " A8_MuniGuad.csv\r\n"
     ]
    }
   ],
   "source": [
    "!ls"
   ]
  },
  {
   "cell_type": "code",
   "execution_count": 3,
   "id": "beneficial-lover",
   "metadata": {},
   "outputs": [],
   "source": [
    "subsets = [ 'A2_indicEficEscuelaGuad.csv',#0_1728rows_18cols\n",
    "            'A4_delitosGuad.csv',#1_1rows_19cols\n",
    "            'A51_IndicMargGuad.csv',#2_1rows_15coles\n",
    "            'A61_MadresAdolescGuad.csv',#3_1rows_18cols\n",
    "            'A62_PobIndigenaGuad.csv',#4_1rows_18cols\n",
    "            'A71_SocioEconGuad.csv',#5_584rows_187Cols\n",
    "            'A8_MuniGuad.csv'#6_2rows_232cols\n",
    "          ]"
   ]
  },
  {
   "cell_type": "code",
   "execution_count": 30,
   "id": "instrumental-coupon",
   "metadata": {},
   "outputs": [
    {
     "name": "stdout",
     "output_type": "stream",
     "text": [
      "shape:  (1728, 11)\n"
     ]
    },
    {
     "data": {
      "text/html": [
       "<div>\n",
       "<style scoped>\n",
       "    .dataframe tbody tr th:only-of-type {\n",
       "        vertical-align: middle;\n",
       "    }\n",
       "\n",
       "    .dataframe tbody tr th {\n",
       "        vertical-align: top;\n",
       "    }\n",
       "\n",
       "    .dataframe thead th {\n",
       "        text-align: right;\n",
       "    }\n",
       "</style>\n",
       "<table border=\"1\" class=\"dataframe\">\n",
       "  <thead>\n",
       "    <tr style=\"text-align: right;\">\n",
       "      <th></th>\n",
       "      <th>CLAVE_CT</th>\n",
       "      <th>NOM_TURNO</th>\n",
       "      <th>DOMICILIO</th>\n",
       "      <th>COLONIA</th>\n",
       "      <th>SOSTENIMIENTO</th>\n",
       "      <th>NIVEL</th>\n",
       "      <th>PROGRAMA</th>\n",
       "      <th>DESERCION_INTRACURRICULAR</th>\n",
       "      <th>REPROBACION</th>\n",
       "      <th>REPROBACION_CON_REGULARIZADOS</th>\n",
       "      <th>EFICIENCIA_TERMINAL</th>\n",
       "    </tr>\n",
       "  </thead>\n",
       "  <tbody>\n",
       "    <tr>\n",
       "      <th>0</th>\n",
       "      <td>14DJN0128O</td>\n",
       "      <td>MATUTINO</td>\n",
       "      <td>ARQUIMEDES 723</td>\n",
       "      <td>9386</td>\n",
       "      <td>FEDERALIZADO</td>\n",
       "      <td>PREESCOLAR</td>\n",
       "      <td>GENERAL</td>\n",
       "      <td>N.A.</td>\n",
       "      <td>N.A.</td>\n",
       "      <td>N.A.</td>\n",
       "      <td>N.A.</td>\n",
       "    </tr>\n",
       "    <tr>\n",
       "      <th>1</th>\n",
       "      <td>14DJN0130C</td>\n",
       "      <td>MATUTINO</td>\n",
       "      <td>PEDRO CELESTINO NEGRETE 144</td>\n",
       "      <td>9417</td>\n",
       "      <td>FEDERALIZADO</td>\n",
       "      <td>PREESCOLAR</td>\n",
       "      <td>GENERAL</td>\n",
       "      <td>N.A.</td>\n",
       "      <td>N.A.</td>\n",
       "      <td>N.A.</td>\n",
       "      <td>N.A.</td>\n",
       "    </tr>\n",
       "    <tr>\n",
       "      <th>2</th>\n",
       "      <td>14DJN0132A</td>\n",
       "      <td>MATUTINO</td>\n",
       "      <td>UNIDAD MODELO</td>\n",
       "      <td>9445</td>\n",
       "      <td>FEDERALIZADO</td>\n",
       "      <td>PREESCOLAR</td>\n",
       "      <td>GENERAL</td>\n",
       "      <td>N.A.</td>\n",
       "      <td>N.A.</td>\n",
       "      <td>N.A.</td>\n",
       "      <td>N.A.</td>\n",
       "    </tr>\n",
       "    <tr>\n",
       "      <th>3</th>\n",
       "      <td>14DJN0133Z</td>\n",
       "      <td>MATUTINO</td>\n",
       "      <td>GREGORIO DAVILA 1081</td>\n",
       "      <td>9061</td>\n",
       "      <td>FEDERALIZADO</td>\n",
       "      <td>PREESCOLAR</td>\n",
       "      <td>GENERAL</td>\n",
       "      <td>N.A.</td>\n",
       "      <td>N.A.</td>\n",
       "      <td>N.A.</td>\n",
       "      <td>N.A.</td>\n",
       "    </tr>\n",
       "    <tr>\n",
       "      <th>4</th>\n",
       "      <td>14DJN0135Y</td>\n",
       "      <td>MATUTINO</td>\n",
       "      <td>FIDEL VELAZQUEZ 1529</td>\n",
       "      <td>9389</td>\n",
       "      <td>FEDERALIZADO</td>\n",
       "      <td>PREESCOLAR</td>\n",
       "      <td>GENERAL</td>\n",
       "      <td>N.A.</td>\n",
       "      <td>N.A.</td>\n",
       "      <td>N.A.</td>\n",
       "      <td>N.A.</td>\n",
       "    </tr>\n",
       "  </tbody>\n",
       "</table>\n",
       "</div>"
      ],
      "text/plain": [
       "     CLAVE_CT NOM_TURNO                    DOMICILIO  COLONIA SOSTENIMIENTO  \\\n",
       "0  14DJN0128O  MATUTINO               ARQUIMEDES 723     9386  FEDERALIZADO   \n",
       "1  14DJN0130C  MATUTINO  PEDRO CELESTINO NEGRETE 144     9417  FEDERALIZADO   \n",
       "2  14DJN0132A  MATUTINO                UNIDAD MODELO     9445  FEDERALIZADO   \n",
       "3  14DJN0133Z  MATUTINO         GREGORIO DAVILA 1081     9061  FEDERALIZADO   \n",
       "4  14DJN0135Y  MATUTINO         FIDEL VELAZQUEZ 1529     9389  FEDERALIZADO   \n",
       "\n",
       "        NIVEL PROGRAMA DESERCION_INTRACURRICULAR REPROBACION  \\\n",
       "0  PREESCOLAR  GENERAL                      N.A.        N.A.   \n",
       "1  PREESCOLAR  GENERAL                      N.A.        N.A.   \n",
       "2  PREESCOLAR  GENERAL                      N.A.        N.A.   \n",
       "3  PREESCOLAR  GENERAL                      N.A.        N.A.   \n",
       "4  PREESCOLAR  GENERAL                      N.A.        N.A.   \n",
       "\n",
       "  REPROBACION_CON_REGULARIZADOS EFICIENCIA_TERMINAL  \n",
       "0                          N.A.                N.A.  \n",
       "1                          N.A.                N.A.  \n",
       "2                          N.A.                N.A.  \n",
       "3                          N.A.                N.A.  \n",
       "4                          N.A.                N.A.  "
      ]
     },
     "execution_count": 30,
     "metadata": {},
     "output_type": "execute_result"
    }
   ],
   "source": [
    "df = pd.read_csv(subsets[0])\n",
    "print(\"shape: \", df.shape)\n",
    "df.head()"
   ]
  },
  {
   "cell_type": "code",
   "execution_count": 35,
   "id": "suffering-cuisine",
   "metadata": {},
   "outputs": [
    {
     "data": {
      "text/plain": [
       "0                        ARQUIMEDES 723\n",
       "1           PEDRO CELESTINO NEGRETE 144\n",
       "2                         UNIDAD MODELO\n",
       "3                  GREGORIO DAVILA 1081\n",
       "4                  FIDEL VELAZQUEZ 1529\n",
       "                     ...               \n",
       "1723    AVENIDA ENRIQUE DIAZ DE LEON 80\n",
       "1724    AVENIDA ENRIQUE DIAZ DE LEON 80\n",
       "1725                          ACUEDUCTO\n",
       "1726                          LICEO 380\n",
       "1727                          LICEO 380\n",
       "Name: DOMICILIO, Length: 1728, dtype: object"
      ]
     },
     "execution_count": 35,
     "metadata": {},
     "output_type": "execute_result"
    }
   ],
   "source": [
    "#df.pop(\"DOMICILIO\")"
   ]
  },
  {
   "cell_type": "code",
   "execution_count": 37,
   "id": "worldwide-assignment",
   "metadata": {},
   "outputs": [
    {
     "data": {
      "text/html": [
       "<div>\n",
       "<style scoped>\n",
       "    .dataframe tbody tr th:only-of-type {\n",
       "        vertical-align: middle;\n",
       "    }\n",
       "\n",
       "    .dataframe tbody tr th {\n",
       "        vertical-align: top;\n",
       "    }\n",
       "\n",
       "    .dataframe thead th {\n",
       "        text-align: right;\n",
       "    }\n",
       "</style>\n",
       "<table border=\"1\" class=\"dataframe\">\n",
       "  <thead>\n",
       "    <tr style=\"text-align: right;\">\n",
       "      <th></th>\n",
       "      <th>CLAVE_CT</th>\n",
       "      <th>NOM_TURNO</th>\n",
       "      <th>COLONIA</th>\n",
       "      <th>SOSTENIMIENTO</th>\n",
       "      <th>NIVEL</th>\n",
       "      <th>PROGRAMA</th>\n",
       "      <th>DESERCION_INTRACURRICULAR</th>\n",
       "      <th>REPROBACION</th>\n",
       "      <th>REPROBACION_CON_REGULARIZADOS</th>\n",
       "      <th>EFICIENCIA_TERMINAL</th>\n",
       "    </tr>\n",
       "  </thead>\n",
       "  <tbody>\n",
       "    <tr>\n",
       "      <th>689</th>\n",
       "      <td>14DPR0184X</td>\n",
       "      <td>MATUTINO</td>\n",
       "      <td>0</td>\n",
       "      <td>FEDERALIZADO</td>\n",
       "      <td>PRIMARIA</td>\n",
       "      <td>GENERAL</td>\n",
       "      <td>0.0294</td>\n",
       "      <td>0.013</td>\n",
       "      <td>N.A.</td>\n",
       "      <td>0.9367</td>\n",
       "    </tr>\n",
       "    <tr>\n",
       "      <th>690</th>\n",
       "      <td>14DPR0217Y</td>\n",
       "      <td>VESPERTINO</td>\n",
       "      <td>9418</td>\n",
       "      <td>FEDERALIZADO</td>\n",
       "      <td>PRIMARIA</td>\n",
       "      <td>GENERAL</td>\n",
       "      <td>0</td>\n",
       "      <td>0</td>\n",
       "      <td>N.A.</td>\n",
       "      <td>1</td>\n",
       "    </tr>\n",
       "    <tr>\n",
       "      <th>691</th>\n",
       "      <td>14DPR0218X</td>\n",
       "      <td>MATUTINO</td>\n",
       "      <td>9400</td>\n",
       "      <td>FEDERALIZADO</td>\n",
       "      <td>PRIMARIA</td>\n",
       "      <td>GENERAL</td>\n",
       "      <td>0</td>\n",
       "      <td>0</td>\n",
       "      <td>N.A.</td>\n",
       "      <td>0.7368</td>\n",
       "    </tr>\n",
       "    <tr>\n",
       "      <th>692</th>\n",
       "      <td>14DPR0220L</td>\n",
       "      <td>MATUTINO</td>\n",
       "      <td>9359</td>\n",
       "      <td>FEDERALIZADO</td>\n",
       "      <td>PRIMARIA</td>\n",
       "      <td>GENERAL</td>\n",
       "      <td>0</td>\n",
       "      <td>0</td>\n",
       "      <td>N.A.</td>\n",
       "      <td>1</td>\n",
       "    </tr>\n",
       "    <tr>\n",
       "      <th>693</th>\n",
       "      <td>14DPR0221K</td>\n",
       "      <td>MATUTINO</td>\n",
       "      <td>9359</td>\n",
       "      <td>FEDERALIZADO</td>\n",
       "      <td>PRIMARIA</td>\n",
       "      <td>GENERAL</td>\n",
       "      <td>0.0528</td>\n",
       "      <td>0</td>\n",
       "      <td>N.A.</td>\n",
       "      <td>1</td>\n",
       "    </tr>\n",
       "  </tbody>\n",
       "</table>\n",
       "</div>"
      ],
      "text/plain": [
       "       CLAVE_CT   NOM_TURNO  COLONIA SOSTENIMIENTO     NIVEL PROGRAMA  \\\n",
       "689  14DPR0184X    MATUTINO        0  FEDERALIZADO  PRIMARIA  GENERAL   \n",
       "690  14DPR0217Y  VESPERTINO     9418  FEDERALIZADO  PRIMARIA  GENERAL   \n",
       "691  14DPR0218X    MATUTINO     9400  FEDERALIZADO  PRIMARIA  GENERAL   \n",
       "692  14DPR0220L    MATUTINO     9359  FEDERALIZADO  PRIMARIA  GENERAL   \n",
       "693  14DPR0221K    MATUTINO     9359  FEDERALIZADO  PRIMARIA  GENERAL   \n",
       "\n",
       "    DESERCION_INTRACURRICULAR REPROBACION REPROBACION_CON_REGULARIZADOS  \\\n",
       "689                    0.0294       0.013                          N.A.   \n",
       "690                         0           0                          N.A.   \n",
       "691                         0           0                          N.A.   \n",
       "692                         0           0                          N.A.   \n",
       "693                    0.0528           0                          N.A.   \n",
       "\n",
       "    EFICIENCIA_TERMINAL  \n",
       "689              0.9367  \n",
       "690                   1  \n",
       "691              0.7368  \n",
       "692                   1  \n",
       "693                   1  "
      ]
     },
     "execution_count": 37,
     "metadata": {},
     "output_type": "execute_result"
    }
   ],
   "source": [
    "#df_1 = df[df.DESERCION_INTRACURRICULAR != 'N.A.']\n"
   ]
  },
  {
   "cell_type": "code",
   "execution_count": 29,
   "id": "expressed-burke",
   "metadata": {},
   "outputs": [],
   "source": [
    "#df_new = df.drop(df.columns[-1], axis=1)\n",
    "#df_new.iloc[:15,:]\n",
    "#df.to_csv(subsets[0], index =False)"
   ]
  },
  {
   "cell_type": "code",
   "execution_count": 66,
   "id": "enormous-first",
   "metadata": {},
   "outputs": [],
   "source": [
    "#counter = collections.Counter(df['CLAVE_CT'].to_list())\n",
    "#counter"
   ]
  },
  {
   "cell_type": "markdown",
   "id": "indonesian-joining",
   "metadata": {},
   "source": [
    "# A2 INDICE DE EFICIENCIA DE ESCUELAS"
   ]
  },
  {
   "cell_type": "markdown",
   "id": "armed-sailing",
   "metadata": {},
   "source": [
    "## PRIMER SUBSET: Con Reprobación Regularizada"
   ]
  },
  {
   "cell_type": "code",
   "execution_count": 155,
   "id": "going-scene",
   "metadata": {},
   "outputs": [],
   "source": [
    "data = [\n",
    "    'CONREPROB_REGU_A2_indicEficEscuelaGuad.csv',\n",
    "    'SINREPROB_REGU_A2_indicEficEscuelaGuad.csv'\n",
    "]\n"
   ]
  },
  {
   "cell_type": "code",
   "execution_count": 199,
   "id": "second-fifth",
   "metadata": {},
   "outputs": [
    {
     "data": {
      "text/html": [
       "<div>\n",
       "<style scoped>\n",
       "    .dataframe tbody tr th:only-of-type {\n",
       "        vertical-align: middle;\n",
       "    }\n",
       "\n",
       "    .dataframe tbody tr th {\n",
       "        vertical-align: top;\n",
       "    }\n",
       "\n",
       "    .dataframe thead th {\n",
       "        text-align: right;\n",
       "    }\n",
       "</style>\n",
       "<table border=\"1\" class=\"dataframe\">\n",
       "  <thead>\n",
       "    <tr style=\"text-align: right;\">\n",
       "      <th></th>\n",
       "      <th>NOM_TURNO</th>\n",
       "      <th>COLONIA</th>\n",
       "      <th>SOSTENIMIENTO</th>\n",
       "      <th>NIVEL</th>\n",
       "      <th>PROGRAMA</th>\n",
       "      <th>DESERCION_INTRACURRICULAR</th>\n",
       "      <th>REPROBACION</th>\n",
       "      <th>REPROBACION_CON_REGULARIZADOS</th>\n",
       "      <th>EFICIENCIA_TERMINAL</th>\n",
       "    </tr>\n",
       "  </thead>\n",
       "  <tbody>\n",
       "    <tr>\n",
       "      <th>0</th>\n",
       "      <td>MATUTINO</td>\n",
       "      <td>9339</td>\n",
       "      <td>FEDERALIZADO</td>\n",
       "      <td>SECUNDARIA</td>\n",
       "      <td>GENERAL</td>\n",
       "      <td>0.0255</td>\n",
       "      <td>0.0000</td>\n",
       "      <td>0.0000</td>\n",
       "      <td>0.8478</td>\n",
       "    </tr>\n",
       "    <tr>\n",
       "      <th>1</th>\n",
       "      <td>VESPERTINO</td>\n",
       "      <td>9339</td>\n",
       "      <td>FEDERALIZADO</td>\n",
       "      <td>SECUNDARIA</td>\n",
       "      <td>GENERAL</td>\n",
       "      <td>0.0308</td>\n",
       "      <td>0.0000</td>\n",
       "      <td>0.0000</td>\n",
       "      <td>0.8459</td>\n",
       "    </tr>\n",
       "    <tr>\n",
       "      <th>2</th>\n",
       "      <td>VESPERTINO</td>\n",
       "      <td>9417</td>\n",
       "      <td>FEDERALIZADO</td>\n",
       "      <td>SECUNDARIA</td>\n",
       "      <td>GENERAL</td>\n",
       "      <td>0.0672</td>\n",
       "      <td>0.2002</td>\n",
       "      <td>0.1282</td>\n",
       "      <td>0.6647</td>\n",
       "    </tr>\n",
       "    <tr>\n",
       "      <th>3</th>\n",
       "      <td>MATUTINO</td>\n",
       "      <td>9417</td>\n",
       "      <td>FEDERALIZADO</td>\n",
       "      <td>SECUNDARIA</td>\n",
       "      <td>GENERAL</td>\n",
       "      <td>0.0853</td>\n",
       "      <td>0.2715</td>\n",
       "      <td>0.2184</td>\n",
       "      <td>0.7064</td>\n",
       "    </tr>\n",
       "    <tr>\n",
       "      <th>4</th>\n",
       "      <td>VESPERTINO</td>\n",
       "      <td>9359</td>\n",
       "      <td>FEDERALIZADO</td>\n",
       "      <td>SECUNDARIA</td>\n",
       "      <td>GENERAL</td>\n",
       "      <td>0.0612</td>\n",
       "      <td>0.0342</td>\n",
       "      <td>0.0280</td>\n",
       "      <td>0.8291</td>\n",
       "    </tr>\n",
       "  </tbody>\n",
       "</table>\n",
       "</div>"
      ],
      "text/plain": [
       "    NOM_TURNO  COLONIA SOSTENIMIENTO       NIVEL PROGRAMA  \\\n",
       "0    MATUTINO     9339  FEDERALIZADO  SECUNDARIA  GENERAL   \n",
       "1  VESPERTINO     9339  FEDERALIZADO  SECUNDARIA  GENERAL   \n",
       "2  VESPERTINO     9417  FEDERALIZADO  SECUNDARIA  GENERAL   \n",
       "3    MATUTINO     9417  FEDERALIZADO  SECUNDARIA  GENERAL   \n",
       "4  VESPERTINO     9359  FEDERALIZADO  SECUNDARIA  GENERAL   \n",
       "\n",
       "   DESERCION_INTRACURRICULAR  REPROBACION  REPROBACION_CON_REGULARIZADOS  \\\n",
       "0                     0.0255       0.0000                         0.0000   \n",
       "1                     0.0308       0.0000                         0.0000   \n",
       "2                     0.0672       0.2002                         0.1282   \n",
       "3                     0.0853       0.2715                         0.2184   \n",
       "4                     0.0612       0.0342                         0.0280   \n",
       "\n",
       "   EFICIENCIA_TERMINAL  \n",
       "0               0.8478  \n",
       "1               0.8459  \n",
       "2               0.6647  \n",
       "3               0.7064  \n",
       "4               0.8291  "
      ]
     },
     "execution_count": 199,
     "metadata": {},
     "output_type": "execute_result"
    }
   ],
   "source": [
    "df = pd.read_csv(data[0])\n",
    "df.head()"
   ]
  },
  {
   "cell_type": "code",
   "execution_count": 200,
   "id": "soviet-wonder",
   "metadata": {},
   "outputs": [],
   "source": [
    "labels = (df.iloc[:,-1]).to_list() "
   ]
  },
  {
   "cell_type": "code",
   "execution_count": 183,
   "id": "removable-leeds",
   "metadata": {},
   "outputs": [],
   "source": [
    "df_1 = df[df.NIVEL == 'SECUNDARIA']"
   ]
  },
  {
   "cell_type": "code",
   "execution_count": 184,
   "id": "wrong-pastor",
   "metadata": {},
   "outputs": [
    {
     "data": {
      "text/plain": [
       "0      SECUNDARIA\n",
       "1      SECUNDARIA\n",
       "2      SECUNDARIA\n",
       "3      SECUNDARIA\n",
       "4      SECUNDARIA\n",
       "          ...    \n",
       "224    SECUNDARIA\n",
       "225    SECUNDARIA\n",
       "226    SECUNDARIA\n",
       "227    SECUNDARIA\n",
       "228    SECUNDARIA\n",
       "Name: NIVEL, Length: 229, dtype: object"
      ]
     },
     "execution_count": 184,
     "metadata": {},
     "output_type": "execute_result"
    }
   ],
   "source": [
    "df_1.pop(\"NIVEL\")"
   ]
  },
  {
   "cell_type": "code",
   "execution_count": 185,
   "id": "patient-divide",
   "metadata": {},
   "outputs": [
    {
     "data": {
      "text/html": [
       "<div>\n",
       "<style scoped>\n",
       "    .dataframe tbody tr th:only-of-type {\n",
       "        vertical-align: middle;\n",
       "    }\n",
       "\n",
       "    .dataframe tbody tr th {\n",
       "        vertical-align: top;\n",
       "    }\n",
       "\n",
       "    .dataframe thead th {\n",
       "        text-align: right;\n",
       "    }\n",
       "</style>\n",
       "<table border=\"1\" class=\"dataframe\">\n",
       "  <thead>\n",
       "    <tr style=\"text-align: right;\">\n",
       "      <th></th>\n",
       "      <th>NOM_TURNO</th>\n",
       "      <th>COLONIA</th>\n",
       "      <th>SOSTENIMIENTO</th>\n",
       "      <th>PROGRAMA</th>\n",
       "      <th>DESERCION_INTRACURRICULAR</th>\n",
       "      <th>REPROBACION</th>\n",
       "      <th>REPROBACION_CON_REGULARIZADOS</th>\n",
       "      <th>EFICIENCIA_TERMINAL</th>\n",
       "    </tr>\n",
       "  </thead>\n",
       "  <tbody>\n",
       "    <tr>\n",
       "      <th>0</th>\n",
       "      <td>MATUTINO</td>\n",
       "      <td>9339</td>\n",
       "      <td>FEDERALIZADO</td>\n",
       "      <td>GENERAL</td>\n",
       "      <td>0.0255</td>\n",
       "      <td>0.0000</td>\n",
       "      <td>0.0000</td>\n",
       "      <td>0.8478</td>\n",
       "    </tr>\n",
       "    <tr>\n",
       "      <th>1</th>\n",
       "      <td>VESPERTINO</td>\n",
       "      <td>9339</td>\n",
       "      <td>FEDERALIZADO</td>\n",
       "      <td>GENERAL</td>\n",
       "      <td>0.0308</td>\n",
       "      <td>0.0000</td>\n",
       "      <td>0.0000</td>\n",
       "      <td>0.8459</td>\n",
       "    </tr>\n",
       "    <tr>\n",
       "      <th>2</th>\n",
       "      <td>VESPERTINO</td>\n",
       "      <td>9417</td>\n",
       "      <td>FEDERALIZADO</td>\n",
       "      <td>GENERAL</td>\n",
       "      <td>0.0672</td>\n",
       "      <td>0.2002</td>\n",
       "      <td>0.1282</td>\n",
       "      <td>0.6647</td>\n",
       "    </tr>\n",
       "    <tr>\n",
       "      <th>3</th>\n",
       "      <td>MATUTINO</td>\n",
       "      <td>9417</td>\n",
       "      <td>FEDERALIZADO</td>\n",
       "      <td>GENERAL</td>\n",
       "      <td>0.0853</td>\n",
       "      <td>0.2715</td>\n",
       "      <td>0.2184</td>\n",
       "      <td>0.7064</td>\n",
       "    </tr>\n",
       "    <tr>\n",
       "      <th>4</th>\n",
       "      <td>VESPERTINO</td>\n",
       "      <td>9359</td>\n",
       "      <td>FEDERALIZADO</td>\n",
       "      <td>GENERAL</td>\n",
       "      <td>0.0612</td>\n",
       "      <td>0.0342</td>\n",
       "      <td>0.0280</td>\n",
       "      <td>0.8291</td>\n",
       "    </tr>\n",
       "  </tbody>\n",
       "</table>\n",
       "</div>"
      ],
      "text/plain": [
       "    NOM_TURNO  COLONIA SOSTENIMIENTO PROGRAMA  DESERCION_INTRACURRICULAR  \\\n",
       "0    MATUTINO     9339  FEDERALIZADO  GENERAL                     0.0255   \n",
       "1  VESPERTINO     9339  FEDERALIZADO  GENERAL                     0.0308   \n",
       "2  VESPERTINO     9417  FEDERALIZADO  GENERAL                     0.0672   \n",
       "3    MATUTINO     9417  FEDERALIZADO  GENERAL                     0.0853   \n",
       "4  VESPERTINO     9359  FEDERALIZADO  GENERAL                     0.0612   \n",
       "\n",
       "   REPROBACION  REPROBACION_CON_REGULARIZADOS  EFICIENCIA_TERMINAL  \n",
       "0       0.0000                         0.0000               0.8478  \n",
       "1       0.0000                         0.0000               0.8459  \n",
       "2       0.2002                         0.1282               0.6647  \n",
       "3       0.2715                         0.2184               0.7064  \n",
       "4       0.0342                         0.0280               0.8291  "
      ]
     },
     "execution_count": 185,
     "metadata": {},
     "output_type": "execute_result"
    }
   ],
   "source": [
    "df_1.head()"
   ]
  },
  {
   "cell_type": "code",
   "execution_count": 186,
   "id": "rising-knock",
   "metadata": {},
   "outputs": [],
   "source": [
    "df_1.to_csv(subsets[0], index =False)"
   ]
  },
  {
   "cell_type": "code",
   "execution_count": 191,
   "id": "outdoor-aggregate",
   "metadata": {},
   "outputs": [
    {
     "data": {
      "text/html": [
       "<div>\n",
       "<style scoped>\n",
       "    .dataframe tbody tr th:only-of-type {\n",
       "        vertical-align: middle;\n",
       "    }\n",
       "\n",
       "    .dataframe tbody tr th {\n",
       "        vertical-align: top;\n",
       "    }\n",
       "\n",
       "    .dataframe thead th {\n",
       "        text-align: right;\n",
       "    }\n",
       "</style>\n",
       "<table border=\"1\" class=\"dataframe\">\n",
       "  <thead>\n",
       "    <tr style=\"text-align: right;\">\n",
       "      <th></th>\n",
       "      <th>NOM_TURNO</th>\n",
       "      <th>COLONIA</th>\n",
       "      <th>SOSTENIMIENTO</th>\n",
       "      <th>PROGRAMA</th>\n",
       "      <th>DESERCION_INTRACURRICULAR</th>\n",
       "      <th>REPROBACION</th>\n",
       "      <th>REPROBACION_CON_REGULARIZADOS</th>\n",
       "      <th>EFICIENCIA_TERMINAL</th>\n",
       "    </tr>\n",
       "  </thead>\n",
       "  <tbody>\n",
       "    <tr>\n",
       "      <th>0</th>\n",
       "      <td>MATUTINO</td>\n",
       "      <td>9339</td>\n",
       "      <td>FEDERALIZADO</td>\n",
       "      <td>GENERAL</td>\n",
       "      <td>0.0255</td>\n",
       "      <td>0.0000</td>\n",
       "      <td>0.0000</td>\n",
       "      <td>0.8478</td>\n",
       "    </tr>\n",
       "    <tr>\n",
       "      <th>1</th>\n",
       "      <td>VESPERTINO</td>\n",
       "      <td>9339</td>\n",
       "      <td>FEDERALIZADO</td>\n",
       "      <td>GENERAL</td>\n",
       "      <td>0.0308</td>\n",
       "      <td>0.0000</td>\n",
       "      <td>0.0000</td>\n",
       "      <td>0.8459</td>\n",
       "    </tr>\n",
       "    <tr>\n",
       "      <th>2</th>\n",
       "      <td>VESPERTINO</td>\n",
       "      <td>9417</td>\n",
       "      <td>FEDERALIZADO</td>\n",
       "      <td>GENERAL</td>\n",
       "      <td>0.0672</td>\n",
       "      <td>0.2002</td>\n",
       "      <td>0.1282</td>\n",
       "      <td>0.6647</td>\n",
       "    </tr>\n",
       "    <tr>\n",
       "      <th>3</th>\n",
       "      <td>MATUTINO</td>\n",
       "      <td>9417</td>\n",
       "      <td>FEDERALIZADO</td>\n",
       "      <td>GENERAL</td>\n",
       "      <td>0.0853</td>\n",
       "      <td>0.2715</td>\n",
       "      <td>0.2184</td>\n",
       "      <td>0.7064</td>\n",
       "    </tr>\n",
       "    <tr>\n",
       "      <th>4</th>\n",
       "      <td>VESPERTINO</td>\n",
       "      <td>9359</td>\n",
       "      <td>FEDERALIZADO</td>\n",
       "      <td>GENERAL</td>\n",
       "      <td>0.0612</td>\n",
       "      <td>0.0342</td>\n",
       "      <td>0.0280</td>\n",
       "      <td>0.8291</td>\n",
       "    </tr>\n",
       "  </tbody>\n",
       "</table>\n",
       "</div>"
      ],
      "text/plain": [
       "    NOM_TURNO  COLONIA SOSTENIMIENTO PROGRAMA  DESERCION_INTRACURRICULAR  \\\n",
       "0    MATUTINO     9339  FEDERALIZADO  GENERAL                     0.0255   \n",
       "1  VESPERTINO     9339  FEDERALIZADO  GENERAL                     0.0308   \n",
       "2  VESPERTINO     9417  FEDERALIZADO  GENERAL                     0.0672   \n",
       "3    MATUTINO     9417  FEDERALIZADO  GENERAL                     0.0853   \n",
       "4  VESPERTINO     9359  FEDERALIZADO  GENERAL                     0.0612   \n",
       "\n",
       "   REPROBACION  REPROBACION_CON_REGULARIZADOS  EFICIENCIA_TERMINAL  \n",
       "0       0.0000                         0.0000               0.8478  \n",
       "1       0.0000                         0.0000               0.8459  \n",
       "2       0.2002                         0.1282               0.6647  \n",
       "3       0.2715                         0.2184               0.7064  \n",
       "4       0.0342                         0.0280               0.8291  "
      ]
     },
     "execution_count": 191,
     "metadata": {},
     "output_type": "execute_result"
    }
   ],
   "source": [
    "df_1.head()"
   ]
  },
  {
   "cell_type": "code",
   "execution_count": null,
   "id": "public-norwegian",
   "metadata": {},
   "outputs": [],
   "source": []
  },
  {
   "cell_type": "code",
   "execution_count": 193,
   "id": "united-adoption",
   "metadata": {},
   "outputs": [],
   "source": [
    "df = df_1"
   ]
  },
  {
   "cell_type": "code",
   "execution_count": 201,
   "id": "corresponding-fraud",
   "metadata": {},
   "outputs": [
    {
     "data": {
      "text/html": [
       "<div>\n",
       "<style scoped>\n",
       "    .dataframe tbody tr th:only-of-type {\n",
       "        vertical-align: middle;\n",
       "    }\n",
       "\n",
       "    .dataframe tbody tr th {\n",
       "        vertical-align: top;\n",
       "    }\n",
       "\n",
       "    .dataframe thead th {\n",
       "        text-align: right;\n",
       "    }\n",
       "</style>\n",
       "<table border=\"1\" class=\"dataframe\">\n",
       "  <thead>\n",
       "    <tr style=\"text-align: right;\">\n",
       "      <th></th>\n",
       "      <th>NOM_TURNO</th>\n",
       "      <th>COLONIA</th>\n",
       "      <th>SOSTENIMIENTO</th>\n",
       "      <th>NIVEL</th>\n",
       "      <th>PROGRAMA</th>\n",
       "      <th>DESERCION_INTRACURRICULAR</th>\n",
       "      <th>REPROBACION</th>\n",
       "      <th>REPROBACION_CON_REGULARIZADOS</th>\n",
       "      <th>EFICIENCIA_TERMINAL</th>\n",
       "    </tr>\n",
       "  </thead>\n",
       "  <tbody>\n",
       "    <tr>\n",
       "      <th>0</th>\n",
       "      <td>MATUTINO</td>\n",
       "      <td>9339</td>\n",
       "      <td>FEDERALIZADO</td>\n",
       "      <td>SECUNDARIA</td>\n",
       "      <td>GENERAL</td>\n",
       "      <td>0.0255</td>\n",
       "      <td>0.0000</td>\n",
       "      <td>0.0000</td>\n",
       "      <td>0.8478</td>\n",
       "    </tr>\n",
       "    <tr>\n",
       "      <th>1</th>\n",
       "      <td>VESPERTINO</td>\n",
       "      <td>9339</td>\n",
       "      <td>FEDERALIZADO</td>\n",
       "      <td>SECUNDARIA</td>\n",
       "      <td>GENERAL</td>\n",
       "      <td>0.0308</td>\n",
       "      <td>0.0000</td>\n",
       "      <td>0.0000</td>\n",
       "      <td>0.8459</td>\n",
       "    </tr>\n",
       "    <tr>\n",
       "      <th>2</th>\n",
       "      <td>VESPERTINO</td>\n",
       "      <td>9417</td>\n",
       "      <td>FEDERALIZADO</td>\n",
       "      <td>SECUNDARIA</td>\n",
       "      <td>GENERAL</td>\n",
       "      <td>0.0672</td>\n",
       "      <td>0.2002</td>\n",
       "      <td>0.1282</td>\n",
       "      <td>0.6647</td>\n",
       "    </tr>\n",
       "    <tr>\n",
       "      <th>3</th>\n",
       "      <td>MATUTINO</td>\n",
       "      <td>9417</td>\n",
       "      <td>FEDERALIZADO</td>\n",
       "      <td>SECUNDARIA</td>\n",
       "      <td>GENERAL</td>\n",
       "      <td>0.0853</td>\n",
       "      <td>0.2715</td>\n",
       "      <td>0.2184</td>\n",
       "      <td>0.7064</td>\n",
       "    </tr>\n",
       "    <tr>\n",
       "      <th>4</th>\n",
       "      <td>VESPERTINO</td>\n",
       "      <td>9359</td>\n",
       "      <td>FEDERALIZADO</td>\n",
       "      <td>SECUNDARIA</td>\n",
       "      <td>GENERAL</td>\n",
       "      <td>0.0612</td>\n",
       "      <td>0.0342</td>\n",
       "      <td>0.0280</td>\n",
       "      <td>0.8291</td>\n",
       "    </tr>\n",
       "  </tbody>\n",
       "</table>\n",
       "</div>"
      ],
      "text/plain": [
       "    NOM_TURNO  COLONIA SOSTENIMIENTO       NIVEL PROGRAMA  \\\n",
       "0    MATUTINO     9339  FEDERALIZADO  SECUNDARIA  GENERAL   \n",
       "1  VESPERTINO     9339  FEDERALIZADO  SECUNDARIA  GENERAL   \n",
       "2  VESPERTINO     9417  FEDERALIZADO  SECUNDARIA  GENERAL   \n",
       "3    MATUTINO     9417  FEDERALIZADO  SECUNDARIA  GENERAL   \n",
       "4  VESPERTINO     9359  FEDERALIZADO  SECUNDARIA  GENERAL   \n",
       "\n",
       "   DESERCION_INTRACURRICULAR  REPROBACION  REPROBACION_CON_REGULARIZADOS  \\\n",
       "0                     0.0255       0.0000                         0.0000   \n",
       "1                     0.0308       0.0000                         0.0000   \n",
       "2                     0.0672       0.2002                         0.1282   \n",
       "3                     0.0853       0.2715                         0.2184   \n",
       "4                     0.0612       0.0342                         0.0280   \n",
       "\n",
       "   EFICIENCIA_TERMINAL  \n",
       "0               0.8478  \n",
       "1               0.8459  \n",
       "2               0.6647  \n",
       "3               0.7064  \n",
       "4               0.8291  "
      ]
     },
     "execution_count": 201,
     "metadata": {},
     "output_type": "execute_result"
    }
   ],
   "source": [
    "df.head()"
   ]
  },
  {
   "cell_type": "code",
   "execution_count": 195,
   "id": "spanish-motion",
   "metadata": {},
   "outputs": [],
   "source": [
    "labels = (df.iloc[:,-1]).to_list() "
   ]
  },
  {
   "cell_type": "code",
   "execution_count": 202,
   "id": "guilty-saturday",
   "metadata": {},
   "outputs": [
    {
     "data": {
      "text/plain": [
       "0      0.8478\n",
       "1      0.8459\n",
       "2      0.6647\n",
       "3      0.7064\n",
       "4      0.8291\n",
       "        ...  \n",
       "358    0.0000\n",
       "359    0.0000\n",
       "360    0.5994\n",
       "361    0.6463\n",
       "362    0.3882\n",
       "Name: EFICIENCIA_TERMINAL, Length: 363, dtype: float64"
      ]
     },
     "execution_count": 202,
     "metadata": {},
     "output_type": "execute_result"
    }
   ],
   "source": [
    "df.pop(\"EFICIENCIA_TERMINAL\")"
   ]
  },
  {
   "cell_type": "code",
   "execution_count": 203,
   "id": "viral-handbook",
   "metadata": {},
   "outputs": [],
   "source": [
    "matrix0 = gower.gower_matrix(df)\n",
    "embedding0 = umap.UMAP(min_dist=0.51).fit_transform(matrix0)"
   ]
  },
  {
   "cell_type": "code",
   "execution_count": 119,
   "id": "auburn-decrease",
   "metadata": {},
   "outputs": [],
   "source": [
    "#labels_ = df[\"NOM_TURNO\"].to_list()"
   ]
  },
  {
   "cell_type": "markdown",
   "id": "regulation-dance",
   "metadata": {},
   "source": [
    "## Labels = eficiencia terminal:"
   ]
  },
  {
   "cell_type": "code",
   "execution_count": 204,
   "id": "athletic-illinois",
   "metadata": {},
   "outputs": [
    {
     "data": {
      "image/png": "[encoded data removed]",
      "text/plain": [
       "<Figure size 720x576 with 2 Axes>"
      ]
     },
     "metadata": {},
     "output_type": "display_data"
    }
   ],
   "source": [
    "sns.set(style='white', rc={'figure.figsize':(10,8)})\n",
    "plt.scatter(embedding0[:, 0], embedding0[:, 1], c=labels,  cmap='Spectral');\n",
    "cbar = plt.colorbar()\n",
    "cbar.set_label('EFICIENCIA_TERMINAL')\n",
    "plt.savefig('EFICIENCIA_TERMINAL.png')"
   ]
  },
  {
   "cell_type": "code",
   "execution_count": 205,
   "id": "bridal-network",
   "metadata": {},
   "outputs": [
    {
     "data": {
      "text/plain": [
       "Counter({'MATUTINO': 228, 'VESPERTINO': 111, 'DISCONTINUO': 4, 'NOCTURNO': 20})"
      ]
     },
     "execution_count": 205,
     "metadata": {},
     "output_type": "execute_result"
    }
   ],
   "source": [
    "counter = collections.Counter(df['NOM_TURNO'].to_list())\n",
    "counter"
   ]
  },
  {
   "cell_type": "code",
   "execution_count": 206,
   "id": "spiritual-revision",
   "metadata": {},
   "outputs": [
    {
     "data": {
      "image/png": "[encoded data removed]",
      "text/plain": [
       "<Figure size 720x576 with 1 Axes>"
      ]
     },
     "metadata": {},
     "output_type": "display_data"
    }
   ],
   "source": [
    "colors = {'MATUTINO':'red', 'VESPERTINO':'blue', 'DISCONTINUO':'green', 'NOCTURNO':'black'}\n",
    "values = df['NOM_TURNO'].apply(lambda x: colors[x])\n",
    "scatter = plt.scatter(embedding0[:, 0], embedding0[:, 1], c=values,  cmap='Spectral');\n",
    "plt.savefig('turnos.png')"
   ]
  },
  {
   "cell_type": "code",
   "execution_count": 207,
   "id": "agreed-utilization",
   "metadata": {},
   "outputs": [
    {
     "data": {
      "text/plain": [
       "Counter({'FEDERALIZADO': 59, 'ESTATAL': 94, 'PARTICULAR': 205, 'FEDERAL': 5})"
      ]
     },
     "execution_count": 207,
     "metadata": {},
     "output_type": "execute_result"
    }
   ],
   "source": [
    "counter = collections.Counter(df['SOSTENIMIENTO'].to_list())\n",
    "counter"
   ]
  },
  {
   "cell_type": "code",
   "execution_count": 208,
   "id": "premier-smell",
   "metadata": {},
   "outputs": [
    {
     "data": {
      "image/png": "[encoded data removed]",
      "text/plain": [
       "<Figure size 720x576 with 1 Axes>"
      ]
     },
     "metadata": {},
     "output_type": "display_data"
    }
   ],
   "source": [
    "colors = {'FEDERALIZADO':'red', 'ESTATAL':'blue', 'PARTICULAR':'green', 'FEDERAL':'black'}\n",
    "values = df['SOSTENIMIENTO'].apply(lambda x: colors[x])\n",
    "scatter = plt.scatter(embedding0[:, 0], embedding0[:, 1], c=values,  cmap='Spectral');\n",
    "plt.savefig('sostenimiento.png')"
   ]
  },
  {
   "cell_type": "code",
   "execution_count": 154,
   "id": "certified-cotton",
   "metadata": {},
   "outputs": [
    {
     "data": {
      "text/plain": [
       "Counter({'SECUNDARIA': 229, 'BACHILLERATO': 132, 'PROFESIONAL TECNICO': 2})"
      ]
     },
     "execution_count": 154,
     "metadata": {},
     "output_type": "execute_result"
    }
   ],
   "source": [
    "counter = collections.Counter(df['NIVEL'].to_list())\n",
    "counter\n"
   ]
  },
  {
   "cell_type": "code",
   "execution_count": 215,
   "id": "parental-amplifier",
   "metadata": {},
   "outputs": [
    {
     "data": {
      "image/png": "[encoded data removed]",
      "text/plain": [
       "<Figure size 720x576 with 1 Axes>"
      ]
     },
     "metadata": {},
     "output_type": "display_data"
    }
   ],
   "source": [
    "colors = {'SECUNDARIA':'red', 'BACHILLERATO':'blue', 'PROFESIONAL TECNICO':'green'}\n",
    "values = df['NIVEL'].apply(lambda x: colors[x])\n",
    "scatter = plt.scatter(embedding0[:, 0], embedding0[:, 1], c=values,  cmap='Spectral');\n",
    "plt.savefig('nivel.png')"
   ]
  },
  {
   "cell_type": "code",
   "execution_count": 211,
   "id": "paperback-container",
   "metadata": {},
   "outputs": [
    {
     "data": {
      "text/plain": [
       "Counter({'GENERAL': 211,\n",
       "         'TECNICA': 44,\n",
       "         'TELESECUNDARIA': 2,\n",
       "         'PROFESIONAL MEDIO': 2,\n",
       "         'TECNOLOGICO': 31,\n",
       "         'BIS NO ESC': 73})"
      ]
     },
     "execution_count": 211,
     "metadata": {},
     "output_type": "execute_result"
    }
   ],
   "source": [
    "counter = collections.Counter(df['PROGRAMA'].to_list())\n",
    "counter"
   ]
  },
  {
   "cell_type": "code",
   "execution_count": 216,
   "id": "sharing-fraction",
   "metadata": {},
   "outputs": [
    {
     "data": {
      "image/png": "[encoded data removed]",
      "text/plain": [
       "<Figure size 720x576 with 1 Axes>"
      ]
     },
     "metadata": {},
     "output_type": "display_data"
    }
   ],
   "source": [
    "colors = {'GENERAL':'red', 'TECNICA':'blue', 'TECNOLOGICO':'green','BIS NO ESC':'yellow','TELESECUNDARIA':'black','PROFESIONAL MEDIO':'black'}\n",
    "values = df['PROGRAMA'].apply(lambda x: colors[x])\n",
    "scatter = plt.scatter(embedding0[:, 0], embedding0[:, 1], c=values,  cmap='Spectral');\n",
    "plt.savefig('PROGRAMA.png')"
   ]
  },
  {
   "cell_type": "code",
   "execution_count": null,
   "id": "tender-techno",
   "metadata": {},
   "outputs": [],
   "source": [
    "#DESERCION_INTRACURRICULAR\tREPROBACION\tREPROBACION_CON_REGULARIZADOS\t"
   ]
  },
  {
   "cell_type": "code",
   "execution_count": 219,
   "id": "posted-worker",
   "metadata": {},
   "outputs": [],
   "source": [
    "labels = (df[\"REPROBACION\"]).to_list() "
   ]
  },
  {
   "cell_type": "code",
   "execution_count": null,
   "id": "lesser-welcome",
   "metadata": {},
   "outputs": [],
   "source": []
  },
  {
   "cell_type": "code",
   "execution_count": 220,
   "id": "arranged-spanish",
   "metadata": {},
   "outputs": [
    {
     "data": {
      "image/png": "[encoded data removed]",
      "text/plain": [
       "<Figure size 720x576 with 2 Axes>"
      ]
     },
     "metadata": {},
     "output_type": "display_data"
    }
   ],
   "source": [
    "sns.set(style='white', rc={'figure.figsize':(10,8)})\n",
    "plt.scatter(embedding0[:, 0], embedding0[:, 1], c=labels,  cmap='Spectral');\n",
    "cbar = plt.colorbar()\n",
    "cbar.set_label('REPROBACION')\n",
    "plt.savefig('REPROBACION.png')"
   ]
  },
  {
   "cell_type": "code",
   "execution_count": null,
   "id": "copyrighted-there",
   "metadata": {},
   "outputs": [],
   "source": []
  },
  {
   "cell_type": "markdown",
   "id": "blond-occasion",
   "metadata": {},
   "source": [
    "### SEGUNDO SUBSET (Sin Reprobación Regularizada)"
   ]
  },
  {
   "cell_type": "code",
   "execution_count": 99,
   "id": "genuine-costa",
   "metadata": {},
   "outputs": [
    {
     "data": {
      "text/html": [
       "<div>\n",
       "<style scoped>\n",
       "    .dataframe tbody tr th:only-of-type {\n",
       "        vertical-align: middle;\n",
       "    }\n",
       "\n",
       "    .dataframe tbody tr th {\n",
       "        vertical-align: top;\n",
       "    }\n",
       "\n",
       "    .dataframe thead th {\n",
       "        text-align: right;\n",
       "    }\n",
       "</style>\n",
       "<table border=\"1\" class=\"dataframe\">\n",
       "  <thead>\n",
       "    <tr style=\"text-align: right;\">\n",
       "      <th></th>\n",
       "      <th>NOM_TURNO</th>\n",
       "      <th>COLONIA</th>\n",
       "      <th>SOSTENIMIENTO</th>\n",
       "      <th>NIVEL</th>\n",
       "      <th>PROGRAMA</th>\n",
       "      <th>DESERCION_INTRACURRICULAR</th>\n",
       "      <th>REPROBACION</th>\n",
       "      <th>EFICIENCIA_TERMINAL</th>\n",
       "    </tr>\n",
       "  </thead>\n",
       "  <tbody>\n",
       "    <tr>\n",
       "      <th>0</th>\n",
       "      <td>MATUTINO</td>\n",
       "      <td>0</td>\n",
       "      <td>FEDERALIZADO</td>\n",
       "      <td>PRIMARIA</td>\n",
       "      <td>GENERAL</td>\n",
       "      <td>0.0294</td>\n",
       "      <td>0.013</td>\n",
       "      <td>0.9367</td>\n",
       "    </tr>\n",
       "    <tr>\n",
       "      <th>1</th>\n",
       "      <td>VESPERTINO</td>\n",
       "      <td>9418</td>\n",
       "      <td>FEDERALIZADO</td>\n",
       "      <td>PRIMARIA</td>\n",
       "      <td>GENERAL</td>\n",
       "      <td>0.0000</td>\n",
       "      <td>0.000</td>\n",
       "      <td>1.0000</td>\n",
       "    </tr>\n",
       "    <tr>\n",
       "      <th>2</th>\n",
       "      <td>MATUTINO</td>\n",
       "      <td>9400</td>\n",
       "      <td>FEDERALIZADO</td>\n",
       "      <td>PRIMARIA</td>\n",
       "      <td>GENERAL</td>\n",
       "      <td>0.0000</td>\n",
       "      <td>0.000</td>\n",
       "      <td>0.7368</td>\n",
       "    </tr>\n",
       "    <tr>\n",
       "      <th>3</th>\n",
       "      <td>MATUTINO</td>\n",
       "      <td>9359</td>\n",
       "      <td>FEDERALIZADO</td>\n",
       "      <td>PRIMARIA</td>\n",
       "      <td>GENERAL</td>\n",
       "      <td>0.0000</td>\n",
       "      <td>0.000</td>\n",
       "      <td>1.0000</td>\n",
       "    </tr>\n",
       "    <tr>\n",
       "      <th>4</th>\n",
       "      <td>MATUTINO</td>\n",
       "      <td>9359</td>\n",
       "      <td>FEDERALIZADO</td>\n",
       "      <td>PRIMARIA</td>\n",
       "      <td>GENERAL</td>\n",
       "      <td>0.0528</td>\n",
       "      <td>0.000</td>\n",
       "      <td>1.0000</td>\n",
       "    </tr>\n",
       "  </tbody>\n",
       "</table>\n",
       "</div>"
      ],
      "text/plain": [
       "    NOM_TURNO  COLONIA SOSTENIMIENTO     NIVEL PROGRAMA  \\\n",
       "0    MATUTINO        0  FEDERALIZADO  PRIMARIA  GENERAL   \n",
       "1  VESPERTINO     9418  FEDERALIZADO  PRIMARIA  GENERAL   \n",
       "2    MATUTINO     9400  FEDERALIZADO  PRIMARIA  GENERAL   \n",
       "3    MATUTINO     9359  FEDERALIZADO  PRIMARIA  GENERAL   \n",
       "4    MATUTINO     9359  FEDERALIZADO  PRIMARIA  GENERAL   \n",
       "\n",
       "   DESERCION_INTRACURRICULAR  REPROBACION  EFICIENCIA_TERMINAL  \n",
       "0                     0.0294        0.013               0.9367  \n",
       "1                     0.0000        0.000               1.0000  \n",
       "2                     0.0000        0.000               0.7368  \n",
       "3                     0.0000        0.000               1.0000  \n",
       "4                     0.0528        0.000               1.0000  "
      ]
     },
     "execution_count": 99,
     "metadata": {},
     "output_type": "execute_result"
    }
   ],
   "source": [
    "df_2 = pd.read_csv(data[1])\n",
    "df_2.head()"
   ]
  },
  {
   "cell_type": "code",
   "execution_count": 101,
   "id": "artificial-treat",
   "metadata": {},
   "outputs": [
    {
     "data": {
      "text/plain": [
       "0       0.9367\n",
       "1       1.0000\n",
       "2       0.7368\n",
       "3       1.0000\n",
       "4       1.0000\n",
       "         ...  \n",
       "1034    0.0000\n",
       "1035    0.0000\n",
       "1036    0.5994\n",
       "1037    0.6463\n",
       "1038    0.3882\n",
       "Name: EFICIENCIA_TERMINAL, Length: 1039, dtype: float64"
      ]
     },
     "execution_count": 101,
     "metadata": {},
     "output_type": "execute_result"
    }
   ],
   "source": [
    "labels_2 = (df_2.iloc[:,-1]).to_list()\n",
    "df_2.pop(\"EFICIENCIA_TERMINAL\")"
   ]
  },
  {
   "cell_type": "code",
   "execution_count": 102,
   "id": "demanding-railway",
   "metadata": {},
   "outputs": [
    {
     "data": {
      "text/html": [
       "<div>\n",
       "<style scoped>\n",
       "    .dataframe tbody tr th:only-of-type {\n",
       "        vertical-align: middle;\n",
       "    }\n",
       "\n",
       "    .dataframe tbody tr th {\n",
       "        vertical-align: top;\n",
       "    }\n",
       "\n",
       "    .dataframe thead th {\n",
       "        text-align: right;\n",
       "    }\n",
       "</style>\n",
       "<table border=\"1\" class=\"dataframe\">\n",
       "  <thead>\n",
       "    <tr style=\"text-align: right;\">\n",
       "      <th></th>\n",
       "      <th>NOM_TURNO</th>\n",
       "      <th>COLONIA</th>\n",
       "      <th>SOSTENIMIENTO</th>\n",
       "      <th>NIVEL</th>\n",
       "      <th>PROGRAMA</th>\n",
       "      <th>DESERCION_INTRACURRICULAR</th>\n",
       "      <th>REPROBACION</th>\n",
       "    </tr>\n",
       "  </thead>\n",
       "  <tbody>\n",
       "    <tr>\n",
       "      <th>0</th>\n",
       "      <td>MATUTINO</td>\n",
       "      <td>0</td>\n",
       "      <td>FEDERALIZADO</td>\n",
       "      <td>PRIMARIA</td>\n",
       "      <td>GENERAL</td>\n",
       "      <td>0.0294</td>\n",
       "      <td>0.013</td>\n",
       "    </tr>\n",
       "    <tr>\n",
       "      <th>1</th>\n",
       "      <td>VESPERTINO</td>\n",
       "      <td>9418</td>\n",
       "      <td>FEDERALIZADO</td>\n",
       "      <td>PRIMARIA</td>\n",
       "      <td>GENERAL</td>\n",
       "      <td>0.0000</td>\n",
       "      <td>0.000</td>\n",
       "    </tr>\n",
       "    <tr>\n",
       "      <th>2</th>\n",
       "      <td>MATUTINO</td>\n",
       "      <td>9400</td>\n",
       "      <td>FEDERALIZADO</td>\n",
       "      <td>PRIMARIA</td>\n",
       "      <td>GENERAL</td>\n",
       "      <td>0.0000</td>\n",
       "      <td>0.000</td>\n",
       "    </tr>\n",
       "    <tr>\n",
       "      <th>3</th>\n",
       "      <td>MATUTINO</td>\n",
       "      <td>9359</td>\n",
       "      <td>FEDERALIZADO</td>\n",
       "      <td>PRIMARIA</td>\n",
       "      <td>GENERAL</td>\n",
       "      <td>0.0000</td>\n",
       "      <td>0.000</td>\n",
       "    </tr>\n",
       "    <tr>\n",
       "      <th>4</th>\n",
       "      <td>MATUTINO</td>\n",
       "      <td>9359</td>\n",
       "      <td>FEDERALIZADO</td>\n",
       "      <td>PRIMARIA</td>\n",
       "      <td>GENERAL</td>\n",
       "      <td>0.0528</td>\n",
       "      <td>0.000</td>\n",
       "    </tr>\n",
       "  </tbody>\n",
       "</table>\n",
       "</div>"
      ],
      "text/plain": [
       "    NOM_TURNO  COLONIA SOSTENIMIENTO     NIVEL PROGRAMA  \\\n",
       "0    MATUTINO        0  FEDERALIZADO  PRIMARIA  GENERAL   \n",
       "1  VESPERTINO     9418  FEDERALIZADO  PRIMARIA  GENERAL   \n",
       "2    MATUTINO     9400  FEDERALIZADO  PRIMARIA  GENERAL   \n",
       "3    MATUTINO     9359  FEDERALIZADO  PRIMARIA  GENERAL   \n",
       "4    MATUTINO     9359  FEDERALIZADO  PRIMARIA  GENERAL   \n",
       "\n",
       "   DESERCION_INTRACURRICULAR  REPROBACION  \n",
       "0                     0.0294        0.013  \n",
       "1                     0.0000        0.000  \n",
       "2                     0.0000        0.000  \n",
       "3                     0.0000        0.000  \n",
       "4                     0.0528        0.000  "
      ]
     },
     "execution_count": 102,
     "metadata": {},
     "output_type": "execute_result"
    }
   ],
   "source": [
    "df_2.head()"
   ]
  },
  {
   "cell_type": "code",
   "execution_count": 103,
   "id": "metropolitan-wellington",
   "metadata": {},
   "outputs": [],
   "source": [
    "matrix2 = gower.gower_matrix(df_2)"
   ]
  },
  {
   "cell_type": "code",
   "execution_count": 107,
   "id": "bound-engineering",
   "metadata": {},
   "outputs": [
    {
     "data": {
      "image/png": "[encoded data removed]",
      "text/plain": [
       "<Figure size 720x576 with 1 Axes>"
      ]
     },
     "metadata": {},
     "output_type": "display_data"
    }
   ],
   "source": [
    "embedding2 = umap.UMAP().fit_transform(matrix2)\n",
    "sns.set(style='white', rc={'figure.figsize':(10,8)})\n",
    "plt.scatter(embedding2[:, 0], embedding2[:, 1], c=labels_2,  cmap='Spectral');"
   ]
  },
  {
   "cell_type": "code",
   "execution_count": null,
   "id": "portuguese-sweden",
   "metadata": {},
   "outputs": [],
   "source": []
  },
  {
   "cell_type": "code",
   "execution_count": null,
   "id": "expected-tooth",
   "metadata": {},
   "outputs": [],
   "source": []
  }
 ],
 "metadata": {
  "kernelspec": {
   "display_name": "Python 3",
   "language": "python",
   "name": "python3"
  },
  "language_info": {
   "codemirror_mode": {
    "name": "ipython",
    "version": 3
   },
   "file_extension": ".py",
   "mimetype": "text/x-python",
   "name": "python",
   "nbconvert_exporter": "python",
   "pygments_lexer": "ipython3",
   "version": "3.6.9"
  }
 },
 "nbformat": 4,
 "nbformat_minor": 5
}
